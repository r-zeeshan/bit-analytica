{
 "cells": [
  {
   "cell_type": "code",
   "execution_count": 1,
   "metadata": {},
   "outputs": [],
   "source": [
    "import pandas as pd"
   ]
  },
  {
   "cell_type": "code",
   "execution_count": 2,
   "metadata": {},
   "outputs": [
    {
     "data": {
      "text/html": [
       "<div>\n",
       "<style scoped>\n",
       "    .dataframe tbody tr th:only-of-type {\n",
       "        vertical-align: middle;\n",
       "    }\n",
       "\n",
       "    .dataframe tbody tr th {\n",
       "        vertical-align: top;\n",
       "    }\n",
       "\n",
       "    .dataframe thead th {\n",
       "        text-align: right;\n",
       "    }\n",
       "</style>\n",
       "<table border=\"1\" class=\"dataframe\">\n",
       "  <thead>\n",
       "    <tr style=\"text-align: right;\">\n",
       "      <th></th>\n",
       "      <th>publish_date</th>\n",
       "      <th>category</th>\n",
       "      <th>title</th>\n",
       "      <th>url</th>\n",
       "      <th>content</th>\n",
       "    </tr>\n",
       "  </thead>\n",
       "  <tbody>\n",
       "    <tr>\n",
       "      <th>0</th>\n",
       "      <td>2017-01-07</td>\n",
       "      <td>etf_news</td>\n",
       "      <td>Bitcoin growing as an escapist safe haven</td>\n",
       "      <td>http://www.heraldandnews.com/members/forum/wir...</td>\n",
       "      <td>NaN</td>\n",
       "    </tr>\n",
       "    <tr>\n",
       "      <th>1</th>\n",
       "      <td>2017-01-08</td>\n",
       "      <td>etf_news</td>\n",
       "      <td>Bitcoin grows as an escapist safe haven : Bloo...</td>\n",
       "      <td>http://www.oregonlive.com/opinion/index.ssf/20...</td>\n",
       "      <td>BITCOIN.JPG\\n\\nThis 2013 file photo shows bitc...</td>\n",
       "    </tr>\n",
       "    <tr>\n",
       "      <th>2</th>\n",
       "      <td>2017-01-08</td>\n",
       "      <td>geopolitical_events</td>\n",
       "      <td>Why Is It Almost Impossible in India to Hoard ...</td>\n",
       "      <td>http://www.newsbtc.com/2017/01/08/india-black-...</td>\n",
       "      <td>India has been in the news quite often these d...</td>\n",
       "    </tr>\n",
       "    <tr>\n",
       "      <th>3</th>\n",
       "      <td>2017-01-09</td>\n",
       "      <td>exchange_news</td>\n",
       "      <td>Bitcoin Price Was Volatile Last Week , But Not...</td>\n",
       "      <td>http://www.forbes.com/sites/laurashin/2017/01/...</td>\n",
       "      <td>NaN</td>\n",
       "    </tr>\n",
       "    <tr>\n",
       "      <th>4</th>\n",
       "      <td>2017-01-10</td>\n",
       "      <td>exchange_news</td>\n",
       "      <td>Bitstamp Announces the Inclusion of Ripple Alo...</td>\n",
       "      <td>http://www.newsbtc.com/2017/01/10/bitstamp-add...</td>\n",
       "      <td>Bitstamp, one of the leading cryptocurrency ex...</td>\n",
       "    </tr>\n",
       "  </tbody>\n",
       "</table>\n",
       "</div>"
      ],
      "text/plain": [
       "  publish_date             category  \\\n",
       "0   2017-01-07             etf_news   \n",
       "1   2017-01-08             etf_news   \n",
       "2   2017-01-08  geopolitical_events   \n",
       "3   2017-01-09        exchange_news   \n",
       "4   2017-01-10        exchange_news   \n",
       "\n",
       "                                               title  \\\n",
       "0         Bitcoin growing as an escapist safe haven    \n",
       "1  Bitcoin grows as an escapist safe haven : Bloo...   \n",
       "2  Why Is It Almost Impossible in India to Hoard ...   \n",
       "3  Bitcoin Price Was Volatile Last Week , But Not...   \n",
       "4  Bitstamp Announces the Inclusion of Ripple Alo...   \n",
       "\n",
       "                                                 url  \\\n",
       "0  http://www.heraldandnews.com/members/forum/wir...   \n",
       "1  http://www.oregonlive.com/opinion/index.ssf/20...   \n",
       "2  http://www.newsbtc.com/2017/01/08/india-black-...   \n",
       "3  http://www.forbes.com/sites/laurashin/2017/01/...   \n",
       "4  http://www.newsbtc.com/2017/01/10/bitstamp-add...   \n",
       "\n",
       "                                             content  \n",
       "0                                                NaN  \n",
       "1  BITCOIN.JPG\\n\\nThis 2013 file photo shows bitc...  \n",
       "2  India has been in the news quite often these d...  \n",
       "3                                                NaN  \n",
       "4  Bitstamp, one of the leading cryptocurrency ex...  "
      ]
     },
     "execution_count": 2,
     "metadata": {},
     "output_type": "execute_result"
    }
   ],
   "source": [
    "df = pd.read_csv('news_data.csv') ##  Loading the dataset\n",
    "df.head()"
   ]
  },
  {
   "cell_type": "code",
   "execution_count": 3,
   "metadata": {},
   "outputs": [
    {
     "data": {
      "text/plain": [
       "content\n",
       "False    9644\n",
       "True     5052\n",
       "Name: count, dtype: int64"
      ]
     },
     "execution_count": 3,
     "metadata": {},
     "output_type": "execute_result"
    }
   ],
   "source": [
    "df['content'].isna().value_counts()"
   ]
  },
  {
   "cell_type": "code",
   "execution_count": 4,
   "metadata": {},
   "outputs": [],
   "source": [
    "### There are alot of missing values for content, so its better to just drop these rows\n",
    "df.dropna(subset='content', inplace=True)"
   ]
  },
  {
   "cell_type": "code",
   "execution_count": 5,
   "metadata": {},
   "outputs": [],
   "source": [
    "### URL was initially used to scrape the content, its no longer needed \n",
    "df.drop('url', axis=1, inplace=True)"
   ]
  },
  {
   "cell_type": "code",
   "execution_count": 6,
   "metadata": {},
   "outputs": [],
   "source": [
    "df.set_index('publish_date', inplace=True)"
   ]
  },
  {
   "cell_type": "code",
   "execution_count": 7,
   "metadata": {},
   "outputs": [
    {
     "data": {
      "text/html": [
       "<div>\n",
       "<style scoped>\n",
       "    .dataframe tbody tr th:only-of-type {\n",
       "        vertical-align: middle;\n",
       "    }\n",
       "\n",
       "    .dataframe tbody tr th {\n",
       "        vertical-align: top;\n",
       "    }\n",
       "\n",
       "    .dataframe thead th {\n",
       "        text-align: right;\n",
       "    }\n",
       "</style>\n",
       "<table border=\"1\" class=\"dataframe\">\n",
       "  <thead>\n",
       "    <tr style=\"text-align: right;\">\n",
       "      <th></th>\n",
       "      <th>category</th>\n",
       "      <th>title</th>\n",
       "      <th>content</th>\n",
       "    </tr>\n",
       "    <tr>\n",
       "      <th>publish_date</th>\n",
       "      <th></th>\n",
       "      <th></th>\n",
       "      <th></th>\n",
       "    </tr>\n",
       "  </thead>\n",
       "  <tbody>\n",
       "    <tr>\n",
       "      <th>2017-01-08</th>\n",
       "      <td>etf_news</td>\n",
       "      <td>Bitcoin grows as an escapist safe haven : Bloo...</td>\n",
       "      <td>BITCOIN.JPG\\n\\nThis 2013 file photo shows bitc...</td>\n",
       "    </tr>\n",
       "    <tr>\n",
       "      <th>2017-01-08</th>\n",
       "      <td>geopolitical_events</td>\n",
       "      <td>Why Is It Almost Impossible in India to Hoard ...</td>\n",
       "      <td>India has been in the news quite often these d...</td>\n",
       "    </tr>\n",
       "    <tr>\n",
       "      <th>2017-01-10</th>\n",
       "      <td>exchange_news</td>\n",
       "      <td>Bitstamp Announces the Inclusion of Ripple Alo...</td>\n",
       "      <td>Bitstamp, one of the leading cryptocurrency ex...</td>\n",
       "    </tr>\n",
       "    <tr>\n",
       "      <th>2017-01-10</th>\n",
       "      <td>macro_economic_trends</td>\n",
       "      <td>Georgia to Store Real Estate Documents in Bloc...</td>\n",
       "      <td>The country of Georgia will introduce Blockcha...</td>\n",
       "    </tr>\n",
       "    <tr>\n",
       "      <th>2017-01-10</th>\n",
       "      <td>etf_news</td>\n",
       "      <td>Report : Bitcoin ETF Could Amass $300 Million ...</td>\n",
       "      <td>Report: Bitcoin ETF Could Amass $300 Million i...</td>\n",
       "    </tr>\n",
       "  </tbody>\n",
       "</table>\n",
       "</div>"
      ],
      "text/plain": [
       "                           category  \\\n",
       "publish_date                          \n",
       "2017-01-08                 etf_news   \n",
       "2017-01-08      geopolitical_events   \n",
       "2017-01-10            exchange_news   \n",
       "2017-01-10    macro_economic_trends   \n",
       "2017-01-10                 etf_news   \n",
       "\n",
       "                                                          title  \\\n",
       "publish_date                                                      \n",
       "2017-01-08    Bitcoin grows as an escapist safe haven : Bloo...   \n",
       "2017-01-08    Why Is It Almost Impossible in India to Hoard ...   \n",
       "2017-01-10    Bitstamp Announces the Inclusion of Ripple Alo...   \n",
       "2017-01-10    Georgia to Store Real Estate Documents in Bloc...   \n",
       "2017-01-10    Report : Bitcoin ETF Could Amass $300 Million ...   \n",
       "\n",
       "                                                        content  \n",
       "publish_date                                                     \n",
       "2017-01-08    BITCOIN.JPG\\n\\nThis 2013 file photo shows bitc...  \n",
       "2017-01-08    India has been in the news quite often these d...  \n",
       "2017-01-10    Bitstamp, one of the leading cryptocurrency ex...  \n",
       "2017-01-10    The country of Georgia will introduce Blockcha...  \n",
       "2017-01-10    Report: Bitcoin ETF Could Amass $300 Million i...  "
      ]
     },
     "execution_count": 7,
     "metadata": {},
     "output_type": "execute_result"
    }
   ],
   "source": [
    "df.head()"
   ]
  },
  {
   "cell_type": "markdown",
   "metadata": {},
   "source": [
    "## 1. Cleaning the Data"
   ]
  },
  {
   "cell_type": "code",
   "execution_count": 22,
   "metadata": {},
   "outputs": [],
   "source": [
    "cleaned_df = df.copy()"
   ]
  },
  {
   "cell_type": "code",
   "execution_count": 23,
   "metadata": {},
   "outputs": [],
   "source": [
    "from text_utils import clean_text\n",
    "cleaned_df['content'] = cleaned_df['content'].apply(clean_text)"
   ]
  },
  {
   "cell_type": "code",
   "execution_count": 27,
   "metadata": {},
   "outputs": [
    {
     "data": {
      "text/plain": [
       "'bitcoin jpg file photo show bitcoin token sandy utah ap photo file leonid bershidsky bitcoin worth first time since crossed line briefly one considers currency open debate would best performing one world last month gained percent u dollar donald trump like phenomenon finance show rising demand alternative traditional money despite rising price profile bitcoin still something toy currency rarely logged daily transaction significantly fewer croatia national clearing system register country currency kuna number merchant accepting bitcoin growing still extremely challenging use principle currency wherever live practical purpose useful mostly people seeking bypass country currency restriction chinese example venezuelan according coin dance last year average weekly bitcoin trading volume quadrupled venezuela bitcoin trading volume chinese yuan currency responsible percent bitcoin trading double year ago according cryptocompare point however rally breaking restrictive market speculator driving value cryptocurrency first time history looking like reliable safe investment political trouble u europe clearly shown market player old model longer reliable predictor rule go window established system tremble bitcoin despite spotty history costly glitch scam criminal us look like suitable safe decentralized nature mean part system number bitcoins circulation driven entirely mathematics make trump safe brexit safe oil safe whatever danger fear bitcoin direct exposure unlike example gold virtual currency value rest final analysis nothing faith community support faith relatively easy undermine course bitcoin plummeted high december move people bank china banned mainland bank dealing cryptocurrency time looked like harbinger restrictive policy central bank three year passed however crackdown materialized contrary central bank exploring bitcoin blockchain technology minting digital currency possible year u security exchange commission finally approve first bitcoin exchange traded fund proposed winklevoss twin brother american internet entrepreneur harvard classmate facebook mark zuckerberg sued stealing social networking idea sec held etf registration two year already october called feedback turned fund outright despite strong doubt bitcoin asset source hope digital currency community sec give approval people able trade bitcoins broker rather potentially unreliable cryptocurrency exchange short appears threat bitcoin regulator impervious external threat internal one community chooses dismiss growing pain system get hacked money get stolen rare anyhow altogether unexpected digital frontier chinese people particular virtual currency one possible hedge renminbi devaluation trading volume currency also rise bitcoin would sink like lead chinese speculator lost interest yuan loses value lost percent last year making fourth worst performing emerging market currency regulator appear benign stopping bitcoin rally c bloomberg view leonid bershidsky bloomberg view columnist based berlin'"
      ]
     },
     "execution_count": 27,
     "metadata": {},
     "output_type": "execute_result"
    }
   ],
   "source": [
    "cleaned_df['content'].iloc[0]"
   ]
  },
  {
   "cell_type": "markdown",
   "metadata": {},
   "source": [
    "## 2. Loading and Configuring FinBERT"
   ]
  },
  {
   "cell_type": "code",
   "execution_count": 29,
   "metadata": {},
   "outputs": [
    {
     "data": {
      "text/plain": [
       "BertForSequenceClassification(\n",
       "  (bert): BertModel(\n",
       "    (embeddings): BertEmbeddings(\n",
       "      (word_embeddings): Embedding(30873, 768, padding_idx=0)\n",
       "      (position_embeddings): Embedding(512, 768)\n",
       "      (token_type_embeddings): Embedding(2, 768)\n",
       "      (LayerNorm): LayerNorm((768,), eps=1e-12, elementwise_affine=True)\n",
       "      (dropout): Dropout(p=0.1, inplace=False)\n",
       "    )\n",
       "    (encoder): BertEncoder(\n",
       "      (layer): ModuleList(\n",
       "        (0-11): 12 x BertLayer(\n",
       "          (attention): BertAttention(\n",
       "            (self): BertSdpaSelfAttention(\n",
       "              (query): Linear(in_features=768, out_features=768, bias=True)\n",
       "              (key): Linear(in_features=768, out_features=768, bias=True)\n",
       "              (value): Linear(in_features=768, out_features=768, bias=True)\n",
       "              (dropout): Dropout(p=0.1, inplace=False)\n",
       "            )\n",
       "            (output): BertSelfOutput(\n",
       "              (dense): Linear(in_features=768, out_features=768, bias=True)\n",
       "              (LayerNorm): LayerNorm((768,), eps=1e-12, elementwise_affine=True)\n",
       "              (dropout): Dropout(p=0.1, inplace=False)\n",
       "            )\n",
       "          )\n",
       "          (intermediate): BertIntermediate(\n",
       "            (dense): Linear(in_features=768, out_features=3072, bias=True)\n",
       "            (intermediate_act_fn): GELUActivation()\n",
       "          )\n",
       "          (output): BertOutput(\n",
       "            (dense): Linear(in_features=3072, out_features=768, bias=True)\n",
       "            (LayerNorm): LayerNorm((768,), eps=1e-12, elementwise_affine=True)\n",
       "            (dropout): Dropout(p=0.1, inplace=False)\n",
       "          )\n",
       "        )\n",
       "      )\n",
       "    )\n",
       "    (pooler): BertPooler(\n",
       "      (dense): Linear(in_features=768, out_features=768, bias=True)\n",
       "      (activation): Tanh()\n",
       "    )\n",
       "  )\n",
       "  (dropout): Dropout(p=0.1, inplace=False)\n",
       "  (classifier): Linear(in_features=768, out_features=3, bias=True)\n",
       ")"
      ]
     },
     "execution_count": 29,
     "metadata": {},
     "output_type": "execute_result"
    }
   ],
   "source": [
    "from transformers import BertTokenizer, BertForSequenceClassification\n",
    "import torch\n",
    "\n",
    "\n",
    "tokenizer = BertTokenizer.from_pretrained('yiyanghkust/finbert-tone')\n",
    "model = BertForSequenceClassification.from_pretrained('yiyanghkust/finbert-tone')\n",
    "\n",
    "model.eval()"
   ]
  },
  {
   "cell_type": "code",
   "execution_count": 30,
   "metadata": {},
   "outputs": [],
   "source": [
    "def  get_token_length(text, tokenizer):\n",
    "    \"\"\"\n",
    "    Helper method to get the length of tokenize sequence, \n",
    "    in order to make informed decision regarding max_length while encoding\n",
    "    \"\"\"\n",
    "    tokens = tokenizer.encode(text, add_special_tokens=True)\n",
    "    return len(tokens)\n",
    "    \n",
    "\n",
    "cleaned_df['token_length'] = cleaned_df['content'].apply(lambda x: get_token_length(x, tokenizer))\n"
   ]
  },
  {
   "cell_type": "code",
   "execution_count": 31,
   "metadata": {},
   "outputs": [
    {
     "data": {
      "text/plain": [
       "count     9644.000000\n",
       "mean       429.687059\n",
       "std        549.446915\n",
       "min          2.000000\n",
       "25%        186.000000\n",
       "50%        329.000000\n",
       "75%        508.000000\n",
       "max      11844.000000\n",
       "Name: token_length, dtype: float64"
      ]
     },
     "execution_count": 31,
     "metadata": {},
     "output_type": "execute_result"
    }
   ],
   "source": [
    "import matplotlib.pyplot as plt\n",
    "\n",
    "desc = cleaned_df['token_length'].describe()\n",
    "desc"
   ]
  },
  {
   "cell_type": "code",
   "execution_count": 48,
   "metadata": {},
   "outputs": [
    {
     "data": {
      "image/png": "[encoded data removed]",
      "text/plain": [
       "<Figure size 600x600 with 1 Axes>"
      ]
     },
     "metadata": {},
     "output_type": "display_data"
    }
   ],
   "source": [
    "plt.figure(figsize=(6,6))\n",
    "plt.hist(cleaned_df['token_length'], bins=50, edgecolor='k', alpha=0.7)\n",
    "plt.title('Distribution of Token Lengths')\n",
    "plt.xlabel('Token Length')\n",
    "plt.xlim(0, 2000)\n",
    "plt.ylabel('Frequency')\n",
    "plt.grid(True)\n",
    "plt.show();\n"
   ]
  },
  {
   "cell_type": "code",
   "execution_count": 44,
   "metadata": {},
   "outputs": [
    {
     "name": "stdout",
     "output_type": "stream",
     "text": [
      "{'percentile_95': 1081.7000000000007, 'percentile_90': 788.0, 'percentile_85': 645.5499999999993, 'percentile_80': 563.0}\n"
     ]
    }
   ],
   "source": [
    "import numpy as np\n",
    "\n",
    "percentiles = {f'percentile_{x}' : np.percentile(cleaned_df['token_length'], x) for x in [95, 90, 85, 80]}\n",
    "print(percentiles)"
   ]
  },
  {
   "cell_type": "code",
   "execution_count": 50,
   "metadata": {},
   "outputs": [],
   "source": [
    "### Choosing the value near 80th percentile, as it captures alot of detail, but also reducing the computational costs\n",
    "from text_utils import get_sentiment\n",
    "cleaned_df['sentiment'] = cleaned_df['content'].apply(lambda x: get_sentiment(x, tokenizer, model, max_length=512))"
   ]
  },
  {
   "cell_type": "code",
   "execution_count": 52,
   "metadata": {},
   "outputs": [],
   "source": [
    "sentiment_scores = cleaned_df.copy()"
   ]
  },
  {
   "cell_type": "code",
   "execution_count": 56,
   "metadata": {},
   "outputs": [
    {
     "data": {
      "text/html": [
       "<div>\n",
       "<style scoped>\n",
       "    .dataframe tbody tr th:only-of-type {\n",
       "        vertical-align: middle;\n",
       "    }\n",
       "\n",
       "    .dataframe tbody tr th {\n",
       "        vertical-align: top;\n",
       "    }\n",
       "\n",
       "    .dataframe thead th {\n",
       "        text-align: right;\n",
       "    }\n",
       "</style>\n",
       "<table border=\"1\" class=\"dataframe\">\n",
       "  <thead>\n",
       "    <tr style=\"text-align: right;\">\n",
       "      <th></th>\n",
       "      <th>category</th>\n",
       "      <th>title</th>\n",
       "      <th>content</th>\n",
       "      <th>token_length</th>\n",
       "      <th>sentiment</th>\n",
       "    </tr>\n",
       "    <tr>\n",
       "      <th>publish_date</th>\n",
       "      <th></th>\n",
       "      <th></th>\n",
       "      <th></th>\n",
       "      <th></th>\n",
       "      <th></th>\n",
       "    </tr>\n",
       "  </thead>\n",
       "  <tbody>\n",
       "    <tr>\n",
       "      <th>2017-01-08</th>\n",
       "      <td>etf_news</td>\n",
       "      <td>Bitcoin grows as an escapist safe haven : Bloo...</td>\n",
       "      <td>bitcoin jpg file photo show bitcoin token sand...</td>\n",
       "      <td>511</td>\n",
       "      <td>0</td>\n",
       "    </tr>\n",
       "    <tr>\n",
       "      <th>2017-01-08</th>\n",
       "      <td>geopolitical_events</td>\n",
       "      <td>Why Is It Almost Impossible in India to Hoard ...</td>\n",
       "      <td>india news quite often day government decided ...</td>\n",
       "      <td>349</td>\n",
       "      <td>0</td>\n",
       "    </tr>\n",
       "    <tr>\n",
       "      <th>2017-01-10</th>\n",
       "      <td>exchange_news</td>\n",
       "      <td>Bitstamp Announces the Inclusion of Ripple Alo...</td>\n",
       "      <td>bitstamp one leading cryptocurrency exchange p...</td>\n",
       "      <td>256</td>\n",
       "      <td>1</td>\n",
       "    </tr>\n",
       "    <tr>\n",
       "      <th>2017-01-10</th>\n",
       "      <td>macro_economic_trends</td>\n",
       "      <td>Georgia to Store Real Estate Documents in Bloc...</td>\n",
       "      <td>country georgia introduce blockchain technolog...</td>\n",
       "      <td>651</td>\n",
       "      <td>0</td>\n",
       "    </tr>\n",
       "    <tr>\n",
       "      <th>2017-01-10</th>\n",
       "      <td>etf_news</td>\n",
       "      <td>Report : Bitcoin ETF Could Amass $300 Million ...</td>\n",
       "      <td>report bitcoin etf could amass million asset a...</td>\n",
       "      <td>52</td>\n",
       "      <td>0</td>\n",
       "    </tr>\n",
       "  </tbody>\n",
       "</table>\n",
       "</div>"
      ],
      "text/plain": [
       "                           category  \\\n",
       "publish_date                          \n",
       "2017-01-08                 etf_news   \n",
       "2017-01-08      geopolitical_events   \n",
       "2017-01-10            exchange_news   \n",
       "2017-01-10    macro_economic_trends   \n",
       "2017-01-10                 etf_news   \n",
       "\n",
       "                                                          title  \\\n",
       "publish_date                                                      \n",
       "2017-01-08    Bitcoin grows as an escapist safe haven : Bloo...   \n",
       "2017-01-08    Why Is It Almost Impossible in India to Hoard ...   \n",
       "2017-01-10    Bitstamp Announces the Inclusion of Ripple Alo...   \n",
       "2017-01-10    Georgia to Store Real Estate Documents in Bloc...   \n",
       "2017-01-10    Report : Bitcoin ETF Could Amass $300 Million ...   \n",
       "\n",
       "                                                        content  token_length  \\\n",
       "publish_date                                                                    \n",
       "2017-01-08    bitcoin jpg file photo show bitcoin token sand...           511   \n",
       "2017-01-08    india news quite often day government decided ...           349   \n",
       "2017-01-10    bitstamp one leading cryptocurrency exchange p...           256   \n",
       "2017-01-10    country georgia introduce blockchain technolog...           651   \n",
       "2017-01-10    report bitcoin etf could amass million asset a...            52   \n",
       "\n",
       "              sentiment  \n",
       "publish_date             \n",
       "2017-01-08            0  \n",
       "2017-01-08            0  \n",
       "2017-01-10            1  \n",
       "2017-01-10            0  \n",
       "2017-01-10            0  "
      ]
     },
     "execution_count": 56,
     "metadata": {},
     "output_type": "execute_result"
    }
   ],
   "source": [
    "sentiment_scores.head()"
   ]
  },
  {
   "cell_type": "code",
   "execution_count": 54,
   "metadata": {},
   "outputs": [
    {
     "data": {
      "text/plain": [
       "sentiment\n",
       "0    6962\n",
       "1    2318\n",
       "2     364\n",
       "Name: count, dtype: int64"
      ]
     },
     "execution_count": 54,
     "metadata": {},
     "output_type": "execute_result"
    }
   ],
   "source": [
    "sentiment_scores['sentiment'].value_counts()"
   ]
  },
  {
   "cell_type": "code",
   "execution_count": 57,
   "metadata": {},
   "outputs": [],
   "source": [
    "sentiment_scores.drop(['title', 'content', 'token_length'], axis=1, inplace=True)"
   ]
  },
  {
   "cell_type": "code",
   "execution_count": 59,
   "metadata": {},
   "outputs": [],
   "source": [
    "sentiment_scores = sentiment_scores.rename_axis('Date')"
   ]
  },
  {
   "cell_type": "code",
   "execution_count": 60,
   "metadata": {},
   "outputs": [
    {
     "data": {
      "text/html": [
       "<div>\n",
       "<style scoped>\n",
       "    .dataframe tbody tr th:only-of-type {\n",
       "        vertical-align: middle;\n",
       "    }\n",
       "\n",
       "    .dataframe tbody tr th {\n",
       "        vertical-align: top;\n",
       "    }\n",
       "\n",
       "    .dataframe thead th {\n",
       "        text-align: right;\n",
       "    }\n",
       "</style>\n",
       "<table border=\"1\" class=\"dataframe\">\n",
       "  <thead>\n",
       "    <tr style=\"text-align: right;\">\n",
       "      <th></th>\n",
       "      <th>category</th>\n",
       "      <th>sentiment</th>\n",
       "    </tr>\n",
       "    <tr>\n",
       "      <th>Date</th>\n",
       "      <th></th>\n",
       "      <th></th>\n",
       "    </tr>\n",
       "  </thead>\n",
       "  <tbody>\n",
       "    <tr>\n",
       "      <th>2017-01-08</th>\n",
       "      <td>etf_news</td>\n",
       "      <td>0</td>\n",
       "    </tr>\n",
       "    <tr>\n",
       "      <th>2017-01-08</th>\n",
       "      <td>geopolitical_events</td>\n",
       "      <td>0</td>\n",
       "    </tr>\n",
       "    <tr>\n",
       "      <th>2017-01-10</th>\n",
       "      <td>exchange_news</td>\n",
       "      <td>1</td>\n",
       "    </tr>\n",
       "    <tr>\n",
       "      <th>2017-01-10</th>\n",
       "      <td>macro_economic_trends</td>\n",
       "      <td>0</td>\n",
       "    </tr>\n",
       "    <tr>\n",
       "      <th>2017-01-10</th>\n",
       "      <td>etf_news</td>\n",
       "      <td>0</td>\n",
       "    </tr>\n",
       "  </tbody>\n",
       "</table>\n",
       "</div>"
      ],
      "text/plain": [
       "                         category  sentiment\n",
       "Date                                        \n",
       "2017-01-08               etf_news          0\n",
       "2017-01-08    geopolitical_events          0\n",
       "2017-01-10          exchange_news          1\n",
       "2017-01-10  macro_economic_trends          0\n",
       "2017-01-10               etf_news          0"
      ]
     },
     "execution_count": 60,
     "metadata": {},
     "output_type": "execute_result"
    }
   ],
   "source": [
    "sentiment_scores.head()"
   ]
  },
  {
   "cell_type": "code",
   "execution_count": 62,
   "metadata": {},
   "outputs": [
    {
     "data": {
      "text/plain": [
       "array(['etf_news', 'geopolitical_events', 'exchange_news',\n",
       "       'macro_economic_trends', 'blockchain_innovations',\n",
       "       'market_adoption', 'regulatory_news', 'legal_actions',\n",
       "       'security_enhancements', 'market_movements', 'media_coverage',\n",
       "       'institutional_involvement'], dtype=object)"
      ]
     },
     "execution_count": 62,
     "metadata": {},
     "output_type": "execute_result"
    }
   ],
   "source": [
    "sentiment_scores['category'].unique()"
   ]
  },
  {
   "cell_type": "code",
   "execution_count": 66,
   "metadata": {},
   "outputs": [],
   "source": [
    "### There are multiple news on some days, but since we need only one news per day\n",
    "### We need to aggregate the news sentiment for the day, in such a way it keeps \n",
    "### the high impact news category more weightage while aggregating.\n",
    "### A dictionary representing various news category priorites is defined in the config.py file\n",
    "from config import IMPACT_WEIGHTS\n",
    "from text_utils import aggregate_sentiment\n",
    "\n",
    "sentiment_scores = aggregate_sentiment(sentiment_scores, IMPACT_WEIGHTS)\n",
    "sentiment_scores.head()"
   ]
  },
  {
   "cell_type": "code",
   "execution_count": 76,
   "metadata": {},
   "outputs": [],
   "source": [
    "### Finally Saving the aggregated sentiment scores into a csv file\n",
    "### So that later it can be merged with the bitcoin price data\n",
    "sentiment_scores.to_csv('sentiment_scores.csv')"
   ]
  }
 ],
 "metadata": {
  "kernelspec": {
   "display_name": "base",
   "language": "python",
   "name": "python3"
  },
  "language_info": {
   "codemirror_mode": {
    "name": "ipython",
    "version": 3
   },
   "file_extension": ".py",
   "mimetype": "text/x-python",
   "name": "python",
   "nbconvert_exporter": "python",
   "pygments_lexer": "ipython3",
   "version": "3.10.14"
  }
 },
 "nbformat": 4,
 "nbformat_minor": 2
}
