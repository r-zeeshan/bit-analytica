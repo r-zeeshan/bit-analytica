{
 "cells": [
  {
   "cell_type": "code",
   "execution_count": 12,
   "metadata": {},
   "outputs": [
    {
     "name": "stderr",
     "output_type": "stream",
     "text": [
      "[*********************100%%**********************]  1 of 1 completed\n"
     ]
    },
    {
     "data": {
      "text/html": [
       "<div>\n",
       "<style scoped>\n",
       "    .dataframe tbody tr th:only-of-type {\n",
       "        vertical-align: middle;\n",
       "    }\n",
       "\n",
       "    .dataframe tbody tr th {\n",
       "        vertical-align: top;\n",
       "    }\n",
       "\n",
       "    .dataframe thead th {\n",
       "        text-align: right;\n",
       "    }\n",
       "</style>\n",
       "<table border=\"1\" class=\"dataframe\">\n",
       "  <thead>\n",
       "    <tr style=\"text-align: right;\">\n",
       "      <th></th>\n",
       "      <th>Open</th>\n",
       "      <th>High</th>\n",
       "      <th>Low</th>\n",
       "      <th>Close</th>\n",
       "      <th>Adj Close</th>\n",
       "      <th>Volume</th>\n",
       "    </tr>\n",
       "    <tr>\n",
       "      <th>Date</th>\n",
       "      <th></th>\n",
       "      <th></th>\n",
       "      <th></th>\n",
       "      <th></th>\n",
       "      <th></th>\n",
       "      <th></th>\n",
       "    </tr>\n",
       "  </thead>\n",
       "  <tbody>\n",
       "    <tr>\n",
       "      <th>2017-01-01</th>\n",
       "      <td>963.658020</td>\n",
       "      <td>1003.080017</td>\n",
       "      <td>958.698975</td>\n",
       "      <td>998.325012</td>\n",
       "      <td>998.325012</td>\n",
       "      <td>147775008</td>\n",
       "    </tr>\n",
       "    <tr>\n",
       "      <th>2017-01-02</th>\n",
       "      <td>998.617004</td>\n",
       "      <td>1031.390015</td>\n",
       "      <td>996.702026</td>\n",
       "      <td>1021.750000</td>\n",
       "      <td>1021.750000</td>\n",
       "      <td>222184992</td>\n",
       "    </tr>\n",
       "    <tr>\n",
       "      <th>2017-01-03</th>\n",
       "      <td>1021.599976</td>\n",
       "      <td>1044.079956</td>\n",
       "      <td>1021.599976</td>\n",
       "      <td>1043.839966</td>\n",
       "      <td>1043.839966</td>\n",
       "      <td>185168000</td>\n",
       "    </tr>\n",
       "    <tr>\n",
       "      <th>2017-01-04</th>\n",
       "      <td>1044.400024</td>\n",
       "      <td>1159.420044</td>\n",
       "      <td>1044.400024</td>\n",
       "      <td>1154.729980</td>\n",
       "      <td>1154.729980</td>\n",
       "      <td>344945984</td>\n",
       "    </tr>\n",
       "    <tr>\n",
       "      <th>2017-01-05</th>\n",
       "      <td>1156.729980</td>\n",
       "      <td>1191.099976</td>\n",
       "      <td>910.416992</td>\n",
       "      <td>1013.380005</td>\n",
       "      <td>1013.380005</td>\n",
       "      <td>510199008</td>\n",
       "    </tr>\n",
       "  </tbody>\n",
       "</table>\n",
       "</div>"
      ],
      "text/plain": [
       "                   Open         High          Low        Close    Adj Close  \\\n",
       "Date                                                                          \n",
       "2017-01-01   963.658020  1003.080017   958.698975   998.325012   998.325012   \n",
       "2017-01-02   998.617004  1031.390015   996.702026  1021.750000  1021.750000   \n",
       "2017-01-03  1021.599976  1044.079956  1021.599976  1043.839966  1043.839966   \n",
       "2017-01-04  1044.400024  1159.420044  1044.400024  1154.729980  1154.729980   \n",
       "2017-01-05  1156.729980  1191.099976   910.416992  1013.380005  1013.380005   \n",
       "\n",
       "               Volume  \n",
       "Date                   \n",
       "2017-01-01  147775008  \n",
       "2017-01-02  222184992  \n",
       "2017-01-03  185168000  \n",
       "2017-01-04  344945984  \n",
       "2017-01-05  510199008  "
      ]
     },
     "execution_count": 12,
     "metadata": {},
     "output_type": "execute_result"
    }
   ],
   "source": [
    "import yfinance as yf\n",
    "\n",
    "def get_historical_data_from_yahoo(ticker, start, end):\n",
    "    data = yf.download(ticker, start=start, end=end, interval='1d')\n",
    "    return data\n",
    "\n",
    "data = get_historical_data_from_yahoo('BTC-USD', '2017-01-01', '2024-06-27')\n",
    "data.head()\n"
   ]
  },
  {
   "cell_type": "code",
   "execution_count": null,
   "metadata": {},
   "outputs": [],
   "source": []
  }
 ],
 "metadata": {
  "kernelspec": {
   "display_name": "base",
   "language": "python",
   "name": "python3"
  },
  "language_info": {
   "codemirror_mode": {
    "name": "ipython",
    "version": 3
   },
   "file_extension": ".py",
   "mimetype": "text/x-python",
   "name": "python",
   "nbconvert_exporter": "python",
   "pygments_lexer": "ipython3",
   "version": "3.12.4"
  }
 },
 "nbformat": 4,
 "nbformat_minor": 2
}
